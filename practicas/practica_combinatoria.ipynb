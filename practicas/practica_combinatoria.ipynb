{
  "nbformat": 4,
  "nbformat_minor": 0,
  "metadata": {
    "colab": {
      "provenance": [],
      "include_colab_link": true
    },
    "kernelspec": {
      "name": "python3",
      "display_name": "Python 3"
    },
    "language_info": {
      "name": "python"
    }
  },
  "cells": [
    {
      "cell_type": "markdown",
      "metadata": {
        "id": "view-in-github",
        "colab_type": "text"
      },
      "source": [
        "<a href=\"https://colab.research.google.com/github/ROGOCA03/math/blob/main/practicas/practica_combinatoria.ipynb\" target=\"_parent\"><img src=\"https://colab.research.google.com/assets/colab-badge.svg\" alt=\"Open In Colab\"/></a>"
      ]
    },
    {
      "cell_type": "markdown",
      "source": [
        "# Práctica 1. Combinatoria\n",
        "Resuelva los siguientes apartados de la práctica.  \n",
        "La práctica 1.1 se proporciona solucionada para que pueda servir como ejemplo.\n"
      ],
      "metadata": {
        "id": "VP-PLgSCPtPC"
      }
    },
    {
      "cell_type": "markdown",
      "source": [
        "## Práctica 1.1\n",
        "Cuatro amigos:\n",
        "* Antonio (A)\n",
        "* Begoña (B)\n",
        "* Cesar (C)\n",
        "* Diana (D)\n",
        "\n",
        "constituyen una asociación y tienen que asignar los siguientes cargos:\n",
        "* Presiente (1)\n",
        "* Vicepresidente (2)\n",
        "* Secretario (3)\n",
        "* Tesorero (4)\n",
        "\n",
        "Se pide:\n",
        "1. Escribiendo la solución en una celda de Markdown analice el caso indicando si se trata de variaciones, permutaciones o combinaciones, con o sin repetición o el caso que sea, y el motivo para clasificar el caso de esta forma.\n",
        "2. Utilizando fórmulas de $\\LaTeX$ calcule cuántos casos existen.\n",
        "3. Cree un programa en Python para calcule cuántos casos existen.\n",
        "4. Cree un programa en Python para imprimir todas las posibilidades y numérelas. Por ejemplo:\n",
        "    - 1 ABCD\n",
        "    - 2 ABDC\n",
        "    - 3 ACBD\n",
        "    - &#20; &#20; &#20; ... ... ..."
      ],
      "metadata": {
        "id": "6oyoxqfbQJDC"
      }
    },
    {
      "cell_type": "markdown",
      "source": [
        "### Solución 1.1\n",
        "* Estamos ante un caso de **permutaciones sin repetición** ya que:\n",
        " - El orden importa, no es lo mismo estar el nº1 que significa ser presidente que el nº 4 que corresponde al tesorero.\n",
        " - Intervienen todos. Son 4 amigos para 4 cargos, todos tienen cargo, lo que cambiar es el orden, esto es, el cargo que obtengan.\n",
        " - No se repiten elementos. Una persona no puede tener dos cargos simultaneamente.\n",
        "* Los casos que se obtienen con las permutaciones sin repetición son $P_{n}=n!$ que para este ejemplo son:\n",
        "\n",
        "$$P_{4}=4!=4 \\cdot 3 \\cdot 2 \\cdot 1 = 24$$"
      ],
      "metadata": {
        "id": "t5unIqR7jdZR"
      }
    },
    {
      "cell_type": "code",
      "source": [
        "import math\n",
        "p = math.factorial(4)\n",
        "print(\"Los casos son: \", p)\n",
        "print(\"Comprobación:  \", 4*3*2*1)"
      ],
      "metadata": {
        "id": "va3_l_-hmFS-",
        "colab": {
          "base_uri": "https://localhost:8080/"
        },
        "outputId": "22fcf238-e4e6-42c4-ea07-b87eb05c43f6"
      },
      "execution_count": 1,
      "outputs": [
        {
          "output_type": "stream",
          "name": "stdout",
          "text": [
            "Los casos son:  24\n",
            "Comprobación:   24\n"
          ]
        }
      ]
    },
    {
      "cell_type": "markdown",
      "source": [
        "#### Método 1\n",
        "Sin usar librería."
      ],
      "metadata": {
        "id": "kOM3pEAGnh8v"
      }
    },
    {
      "cell_type": "code",
      "source": [
        "lista = ['A', 'B', 'C', 'D']\n",
        "contador = 1\n",
        "\n",
        "for i in lista:\n",
        "    for j in lista:\n",
        "        for k in lista:\n",
        "            for l in lista:\n",
        "                if i != j and i != k and i != l and j != k and j != l and k != l:\n",
        "                    print(f\"{contador:2d} →  {i+j+k+l}\")\n",
        "                    contador += 1"
      ],
      "metadata": {
        "id": "5--ZpSoJncj3"
      },
      "execution_count": null,
      "outputs": []
    },
    {
      "cell_type": "markdown",
      "source": [
        "#### Método 2\n",
        "* Usamos la función `permutations` de la librería `itertools`.\n",
        "* Imprimimos todas las permutaciones de los elementos de una lista."
      ],
      "metadata": {
        "id": "2PoCD5GlnwS1"
      }
    },
    {
      "cell_type": "code",
      "source": [
        "from itertools import permutations\n",
        "\n",
        "perm = permutations(['A','B','C','D'])   # obtenemos todas las permutaciones de la lista \n",
        "\n",
        "for i in list(perm):                     # imprimimos todas las permutaciones \n",
        "    print (*i)                           # con el asterisco se muestran las listas sin corchetes ni comas"
      ],
      "metadata": {
        "id": "eKkB1gQnn6_P"
      },
      "execution_count": null,
      "outputs": []
    },
    {
      "cell_type": "markdown",
      "source": [
        "## Práctica 1.2\n",
        "Cuatro amigos:\n",
        "* Antonio (A)\n",
        "* Begoña (B)\n",
        "* Cesar (C)\n",
        "* Diana (D)\n",
        "\n",
        "constituyen una asociación y tienen que asignar los siguientes cargos:\n",
        "* Presiente (1)\n",
        "* Secretario (3)\n",
        "* Tesorero (4)\n",
        "\n",
        "Se pide:\n",
        "1. Escribiendo la solución en una celda de Markdown analice el caso indicando si se trata de variaciones, permutaciones o combinaciones, con o sin repetición o el caso que sea, y el motivo para clasificar el caso de esta forma.\n",
        "2. Utilizando fórmulas de $\\LaTeX$ calcule cuántos casos existen.\n",
        "3. Cree un programa en Python para calcule cuántos casos existen.\n",
        "4. Cree un programa en Python para imprimir todas las posibilidades y numérelas. Por ejemplo:\n",
        "    - 1 ABC\n",
        "    - 2 ABD\n",
        "    - 3 ACB\n",
        "    - &#20; &#20; &#20; ... ... ..."
      ],
      "metadata": {
        "id": "sxSuCpAFSBPJ"
      }
    },
    {
      "cell_type": "markdown",
      "source": [
        "### Solución 1.2"
      ],
      "metadata": {
        "id": "xx9qsw_ej9Pd"
      }
    },
    {
      "cell_type": "code",
      "source": [
        "import math\n",
        "p=math.factorial(4)\n",
        "print(\"Los casos son: \", p)\n",
        "print(\"Comprobación: \", 4*3*2*1)\n"
      ],
      "metadata": {
        "colab": {
          "base_uri": "https://localhost:8080/"
        },
        "id": "o7uocSG6FNSU",
        "outputId": "436e98d1-d8fe-455b-9f96-f2af5ba70f29"
      },
      "execution_count": 3,
      "outputs": [
        {
          "output_type": "stream",
          "name": "stdout",
          "text": [
            "Los casos son:  24\n",
            "Comprobación:  24\n"
          ]
        }
      ]
    },
    {
      "cell_type": "code",
      "source": [
        "from ast import For\n",
        "lista= ['A', 'B', 'C', 'D'] \n",
        "contador=1\n",
        "enumerate(lista)\n",
        "for j in lista:\n",
        "  for k in lista:\n",
        "    for l in lista:\n",
        "      if j != k and j != l and k != l:\n",
        "          print(f\"{contador:2d} {j+k+l}\")\n",
        "          contador += 1\n"
      ],
      "metadata": {
        "colab": {
          "base_uri": "https://localhost:8080/"
        },
        "id": "L6BjmCAJG7CS",
        "outputId": "109303e0-1367-4560-a409-8d2df7b4719d"
      },
      "execution_count": 6,
      "outputs": [
        {
          "output_type": "stream",
          "name": "stdout",
          "text": [
            " 1 ABC\n",
            " 2 ABD\n",
            " 3 ACB\n",
            " 4 ACD\n",
            " 5 ADB\n",
            " 6 ADC\n",
            " 7 BAC\n",
            " 8 BAD\n",
            " 9 BCA\n",
            "10 BCD\n",
            "11 BDA\n",
            "12 BDC\n",
            "13 CAB\n",
            "14 CAD\n",
            "15 CBA\n",
            "16 CBD\n",
            "17 CDA\n",
            "18 CDB\n",
            "19 DAB\n",
            "20 DAC\n",
            "21 DBA\n",
            "22 DBC\n",
            "23 DCA\n",
            "24 DCB\n"
          ]
        }
      ]
    },
    {
      "cell_type": "code",
      "source": [],
      "metadata": {
        "id": "jVAj6S0vG58S"
      },
      "execution_count": null,
      "outputs": []
    },
    {
      "cell_type": "markdown",
      "source": [
        "## Práctica 1.3\n",
        "Invente un caso de **variaciones sin repetición**.\n",
        "Se pide contestar a los mismos puntos que el caso anterior."
      ],
      "metadata": {
        "id": "D0S1DjF4MKmz"
      }
    },
    {
      "cell_type": "markdown",
      "source": [
        "### Solución 1.3"
      ],
      "metadata": {
        "id": "AfyuPIASj_20"
      }
    },
    {
      "cell_type": "markdown",
      "source": [
        "¿Cuántos números de cuatro cifras (todas distintas) se pueden formar con los números 1, 2, 3, 4?"
      ],
      "metadata": {
        "id": "ANquV_iKQeYo"
      }
    },
    {
      "cell_type": "code",
      "source": [
        "import itertools\n",
        "it = itertools.permutations(['1','2','3','4'],4)\n",
        "li = list(it)\n",
        "\n",
        "print()\n",
        "\n",
        "for i in range(len(li)):\n",
        "    print(f\"Variación {i+1:2d}: \", *li[i])"
      ],
      "metadata": {
        "colab": {
          "base_uri": "https://localhost:8080/"
        },
        "id": "WqRuKOaQKXul",
        "outputId": "16ca0857-e06b-4e40-e460-83d37a7d2bfb"
      },
      "execution_count": 39,
      "outputs": [
        {
          "output_type": "stream",
          "name": "stdout",
          "text": [
            "\n",
            "Variación  1:  1 2 3 4\n",
            "Variación  2:  1 2 4 3\n",
            "Variación  3:  1 3 2 4\n",
            "Variación  4:  1 3 4 2\n",
            "Variación  5:  1 4 2 3\n",
            "Variación  6:  1 4 3 2\n",
            "Variación  7:  2 1 3 4\n",
            "Variación  8:  2 1 4 3\n",
            "Variación  9:  2 3 1 4\n",
            "Variación 10:  2 3 4 1\n",
            "Variación 11:  2 4 1 3\n",
            "Variación 12:  2 4 3 1\n",
            "Variación 13:  3 1 2 4\n",
            "Variación 14:  3 1 4 2\n",
            "Variación 15:  3 2 1 4\n",
            "Variación 16:  3 2 4 1\n",
            "Variación 17:  3 4 1 2\n",
            "Variación 18:  3 4 2 1\n",
            "Variación 19:  4 1 2 3\n",
            "Variación 20:  4 1 3 2\n",
            "Variación 21:  4 2 1 3\n",
            "Variación 22:  4 2 3 1\n",
            "Variación 23:  4 3 1 2\n",
            "Variación 24:  4 3 2 1\n"
          ]
        }
      ]
    },
    {
      "cell_type": "markdown",
      "source": [
        "## Práctica 1.4\n",
        "Invente un caso de **variaciones con repetición**.\n",
        "Se pide contestar a los mismos puntos que el caso anterior."
      ],
      "metadata": {
        "id": "gvlnqCaRMTua"
      }
    },
    {
      "cell_type": "markdown",
      "source": [
        "### Solución 1.4"
      ],
      "metadata": {
        "id": "hzvsgRDbkCy1"
      }
    },
    {
      "cell_type": "code",
      "source": [
        "import itertools \n",
        "\n",
        "def variaciones_con_repeticion(n, seq):\n",
        "      contador=0\n",
        "      for p in itertools.product(seq, repeat=n):\n",
        "            contador+= 1\n",
        "            print(contador, \"\".join(p))\n",
        "\n",
        "secuencia = '12345'\n",
        "m= len(secuencia)\n",
        "n= 2\n",
        "variaciones_con_repeticion(n,secuencia)\n",
        "\n",
        "print(f\"El número de variaciones con repetición de {m} elementos tomados de {n} en {n} son {m**n}\")"
      ],
      "metadata": {
        "colab": {
          "base_uri": "https://localhost:8080/"
        },
        "id": "sjSh5-iSNRme",
        "outputId": "cabcd9a9-01dc-4761-9b9f-4d3d5ba85bcf"
      },
      "execution_count": 30,
      "outputs": [
        {
          "output_type": "stream",
          "name": "stdout",
          "text": [
            "1 11\n",
            "2 12\n",
            "3 13\n",
            "4 14\n",
            "5 15\n",
            "6 21\n",
            "7 22\n",
            "8 23\n",
            "9 24\n",
            "10 25\n",
            "11 31\n",
            "12 32\n",
            "13 33\n",
            "14 34\n",
            "15 35\n",
            "16 41\n",
            "17 42\n",
            "18 43\n",
            "19 44\n",
            "20 45\n",
            "21 51\n",
            "22 52\n",
            "23 53\n",
            "24 54\n",
            "25 55\n",
            "El número de variaciones con repetición de 5 elementos tomados de 2 en 2 son 25\n"
          ]
        }
      ]
    },
    {
      "cell_type": "markdown",
      "source": [
        "#SOLUCIÓN\n",
        "Estamos ante un caso de variaciones con repetición ya que:\n",
        "No intervienen todos los elementos. Solo tomaremos dos o uno de los cinco números para realizar las combinaciones.\n",
        "El orden importa ya que no es lo mismo 12 que 21.\n",
        "Son con repetición ya que un número puede ser tomado dos veces para formar el dígito con dos cifras"
      ],
      "metadata": {
        "id": "nQGC9NcDNe3h"
      }
    },
    {
      "cell_type": "markdown",
      "source": [
        "## Práctica 1.5\n",
        "Invente un caso de **permutaciones sin repetición**.\n",
        "Se pide contestar a los mismos puntos que el caso anterior."
      ],
      "metadata": {
        "id": "0OCAC-I-G5F6"
      }
    },
    {
      "cell_type": "markdown",
      "source": [
        "### Solución 1.5"
      ],
      "metadata": {
        "id": "FvLcj6XXkFOV"
      }
    },
    {
      "cell_type": "code",
      "source": [
        "lista = ['A', 'B', 'C']\n",
        "contador = 1\n",
        "\n",
        "for i in lista:\n",
        "    for j in lista:\n",
        "        for k in lista:\n",
        "\n",
        "                if i != j and i != k and j != k :\n",
        "                    print(f\"{contador:2d} →  {i+j+k}\")\n",
        "                    contador += 1"
      ],
      "metadata": {
        "colab": {
          "base_uri": "https://localhost:8080/"
        },
        "id": "onk1d5YLN5NJ",
        "outputId": "1e852c94-493c-4dfb-ae77-a153af81a312"
      },
      "execution_count": 31,
      "outputs": [
        {
          "output_type": "stream",
          "name": "stdout",
          "text": [
            " 1 →  ABC\n",
            " 2 →  ACB\n",
            " 3 →  BAC\n",
            " 4 →  BCA\n",
            " 5 →  CAB\n",
            " 6 →  CBA\n"
          ]
        }
      ]
    },
    {
      "cell_type": "markdown",
      "source": [
        "#SOLUCIÓN\n",
        "Sasuke (A)\n",
        "Zoro (B)\n",
        "Gon (C) Se quieren disponer en un sillón con 3 asientos ¿Cuáles son las maneras posibles?\n",
        "Estamos ante un caso de permutaciones sin repetición ya que:\n",
        "\n",
        "El orden importa, no es lo mismo estar en la silla nº1, que en la silla nº2.\n",
        "Intervienen todas. Son 3 hermanas para 3 sillas, todas tienen un puesto."
      ],
      "metadata": {
        "id": "6u2ROGVsN900"
      }
    },
    {
      "cell_type": "markdown",
      "source": [
        "## Práctica 1.6\n",
        "Invente un caso de **permutaciones con repetición**.\n",
        "Se pide contestar a los mismos puntos que el caso anterior."
      ],
      "metadata": {
        "id": "YWUXIczqLj3W"
      }
    },
    {
      "cell_type": "markdown",
      "source": [
        "### Solución 1.6"
      ],
      "metadata": {
        "id": "siAxWVVekHs6"
      }
    },
    {
      "cell_type": "markdown",
      "source": [
        "Consta de un grupo que va a competir en 4 categorias de anime, siendo 4 personajes los casos que podrá haber sabiendo que todos los competidores pueden ganar en más de una."
      ],
      "metadata": {
        "id": "v9AX4stqP173"
      }
    },
    {
      "cell_type": "code",
      "source": [
        "lista = ['ichigo ', 'luffy ', 'naruto ', 'goku ']\n",
        "\n",
        "for i in lista:\n",
        "    for j in lista:\n",
        "        for k in lista:\n",
        "            for l in lista:\n",
        "                print(i + j + k + l)"
      ],
      "metadata": {
        "colab": {
          "base_uri": "https://localhost:8080/"
        },
        "id": "-HcYwPijOaj4",
        "outputId": "d95d2599-0992-4401-e530-37698ad71026"
      },
      "execution_count": 43,
      "outputs": [
        {
          "output_type": "stream",
          "name": "stdout",
          "text": [
            "ichigo ichigo ichigo ichigo \n",
            "ichigo ichigo ichigo luffy \n",
            "ichigo ichigo ichigo naruto \n",
            "ichigo ichigo ichigo goku \n",
            "ichigo ichigo luffy ichigo \n",
            "ichigo ichigo luffy luffy \n",
            "ichigo ichigo luffy naruto \n",
            "ichigo ichigo luffy goku \n",
            "ichigo ichigo naruto ichigo \n",
            "ichigo ichigo naruto luffy \n",
            "ichigo ichigo naruto naruto \n",
            "ichigo ichigo naruto goku \n",
            "ichigo ichigo goku ichigo \n",
            "ichigo ichigo goku luffy \n",
            "ichigo ichigo goku naruto \n",
            "ichigo ichigo goku goku \n",
            "ichigo luffy ichigo ichigo \n",
            "ichigo luffy ichigo luffy \n",
            "ichigo luffy ichigo naruto \n",
            "ichigo luffy ichigo goku \n",
            "ichigo luffy luffy ichigo \n",
            "ichigo luffy luffy luffy \n",
            "ichigo luffy luffy naruto \n",
            "ichigo luffy luffy goku \n",
            "ichigo luffy naruto ichigo \n",
            "ichigo luffy naruto luffy \n",
            "ichigo luffy naruto naruto \n",
            "ichigo luffy naruto goku \n",
            "ichigo luffy goku ichigo \n",
            "ichigo luffy goku luffy \n",
            "ichigo luffy goku naruto \n",
            "ichigo luffy goku goku \n",
            "ichigo naruto ichigo ichigo \n",
            "ichigo naruto ichigo luffy \n",
            "ichigo naruto ichigo naruto \n",
            "ichigo naruto ichigo goku \n",
            "ichigo naruto luffy ichigo \n",
            "ichigo naruto luffy luffy \n",
            "ichigo naruto luffy naruto \n",
            "ichigo naruto luffy goku \n",
            "ichigo naruto naruto ichigo \n",
            "ichigo naruto naruto luffy \n",
            "ichigo naruto naruto naruto \n",
            "ichigo naruto naruto goku \n",
            "ichigo naruto goku ichigo \n",
            "ichigo naruto goku luffy \n",
            "ichigo naruto goku naruto \n",
            "ichigo naruto goku goku \n",
            "ichigo goku ichigo ichigo \n",
            "ichigo goku ichigo luffy \n",
            "ichigo goku ichigo naruto \n",
            "ichigo goku ichigo goku \n",
            "ichigo goku luffy ichigo \n",
            "ichigo goku luffy luffy \n",
            "ichigo goku luffy naruto \n",
            "ichigo goku luffy goku \n",
            "ichigo goku naruto ichigo \n",
            "ichigo goku naruto luffy \n",
            "ichigo goku naruto naruto \n",
            "ichigo goku naruto goku \n",
            "ichigo goku goku ichigo \n",
            "ichigo goku goku luffy \n",
            "ichigo goku goku naruto \n",
            "ichigo goku goku goku \n",
            "luffy ichigo ichigo ichigo \n",
            "luffy ichigo ichigo luffy \n",
            "luffy ichigo ichigo naruto \n",
            "luffy ichigo ichigo goku \n",
            "luffy ichigo luffy ichigo \n",
            "luffy ichigo luffy luffy \n",
            "luffy ichigo luffy naruto \n",
            "luffy ichigo luffy goku \n",
            "luffy ichigo naruto ichigo \n",
            "luffy ichigo naruto luffy \n",
            "luffy ichigo naruto naruto \n",
            "luffy ichigo naruto goku \n",
            "luffy ichigo goku ichigo \n",
            "luffy ichigo goku luffy \n",
            "luffy ichigo goku naruto \n",
            "luffy ichigo goku goku \n",
            "luffy luffy ichigo ichigo \n",
            "luffy luffy ichigo luffy \n",
            "luffy luffy ichigo naruto \n",
            "luffy luffy ichigo goku \n",
            "luffy luffy luffy ichigo \n",
            "luffy luffy luffy luffy \n",
            "luffy luffy luffy naruto \n",
            "luffy luffy luffy goku \n",
            "luffy luffy naruto ichigo \n",
            "luffy luffy naruto luffy \n",
            "luffy luffy naruto naruto \n",
            "luffy luffy naruto goku \n",
            "luffy luffy goku ichigo \n",
            "luffy luffy goku luffy \n",
            "luffy luffy goku naruto \n",
            "luffy luffy goku goku \n",
            "luffy naruto ichigo ichigo \n",
            "luffy naruto ichigo luffy \n",
            "luffy naruto ichigo naruto \n",
            "luffy naruto ichigo goku \n",
            "luffy naruto luffy ichigo \n",
            "luffy naruto luffy luffy \n",
            "luffy naruto luffy naruto \n",
            "luffy naruto luffy goku \n",
            "luffy naruto naruto ichigo \n",
            "luffy naruto naruto luffy \n",
            "luffy naruto naruto naruto \n",
            "luffy naruto naruto goku \n",
            "luffy naruto goku ichigo \n",
            "luffy naruto goku luffy \n",
            "luffy naruto goku naruto \n",
            "luffy naruto goku goku \n",
            "luffy goku ichigo ichigo \n",
            "luffy goku ichigo luffy \n",
            "luffy goku ichigo naruto \n",
            "luffy goku ichigo goku \n",
            "luffy goku luffy ichigo \n",
            "luffy goku luffy luffy \n",
            "luffy goku luffy naruto \n",
            "luffy goku luffy goku \n",
            "luffy goku naruto ichigo \n",
            "luffy goku naruto luffy \n",
            "luffy goku naruto naruto \n",
            "luffy goku naruto goku \n",
            "luffy goku goku ichigo \n",
            "luffy goku goku luffy \n",
            "luffy goku goku naruto \n",
            "luffy goku goku goku \n",
            "naruto ichigo ichigo ichigo \n",
            "naruto ichigo ichigo luffy \n",
            "naruto ichigo ichigo naruto \n",
            "naruto ichigo ichigo goku \n",
            "naruto ichigo luffy ichigo \n",
            "naruto ichigo luffy luffy \n",
            "naruto ichigo luffy naruto \n",
            "naruto ichigo luffy goku \n",
            "naruto ichigo naruto ichigo \n",
            "naruto ichigo naruto luffy \n",
            "naruto ichigo naruto naruto \n",
            "naruto ichigo naruto goku \n",
            "naruto ichigo goku ichigo \n",
            "naruto ichigo goku luffy \n",
            "naruto ichigo goku naruto \n",
            "naruto ichigo goku goku \n",
            "naruto luffy ichigo ichigo \n",
            "naruto luffy ichigo luffy \n",
            "naruto luffy ichigo naruto \n",
            "naruto luffy ichigo goku \n",
            "naruto luffy luffy ichigo \n",
            "naruto luffy luffy luffy \n",
            "naruto luffy luffy naruto \n",
            "naruto luffy luffy goku \n",
            "naruto luffy naruto ichigo \n",
            "naruto luffy naruto luffy \n",
            "naruto luffy naruto naruto \n",
            "naruto luffy naruto goku \n",
            "naruto luffy goku ichigo \n",
            "naruto luffy goku luffy \n",
            "naruto luffy goku naruto \n",
            "naruto luffy goku goku \n",
            "naruto naruto ichigo ichigo \n",
            "naruto naruto ichigo luffy \n",
            "naruto naruto ichigo naruto \n",
            "naruto naruto ichigo goku \n",
            "naruto naruto luffy ichigo \n",
            "naruto naruto luffy luffy \n",
            "naruto naruto luffy naruto \n",
            "naruto naruto luffy goku \n",
            "naruto naruto naruto ichigo \n",
            "naruto naruto naruto luffy \n",
            "naruto naruto naruto naruto \n",
            "naruto naruto naruto goku \n",
            "naruto naruto goku ichigo \n",
            "naruto naruto goku luffy \n",
            "naruto naruto goku naruto \n",
            "naruto naruto goku goku \n",
            "naruto goku ichigo ichigo \n",
            "naruto goku ichigo luffy \n",
            "naruto goku ichigo naruto \n",
            "naruto goku ichigo goku \n",
            "naruto goku luffy ichigo \n",
            "naruto goku luffy luffy \n",
            "naruto goku luffy naruto \n",
            "naruto goku luffy goku \n",
            "naruto goku naruto ichigo \n",
            "naruto goku naruto luffy \n",
            "naruto goku naruto naruto \n",
            "naruto goku naruto goku \n",
            "naruto goku goku ichigo \n",
            "naruto goku goku luffy \n",
            "naruto goku goku naruto \n",
            "naruto goku goku goku \n",
            "goku ichigo ichigo ichigo \n",
            "goku ichigo ichigo luffy \n",
            "goku ichigo ichigo naruto \n",
            "goku ichigo ichigo goku \n",
            "goku ichigo luffy ichigo \n",
            "goku ichigo luffy luffy \n",
            "goku ichigo luffy naruto \n",
            "goku ichigo luffy goku \n",
            "goku ichigo naruto ichigo \n",
            "goku ichigo naruto luffy \n",
            "goku ichigo naruto naruto \n",
            "goku ichigo naruto goku \n",
            "goku ichigo goku ichigo \n",
            "goku ichigo goku luffy \n",
            "goku ichigo goku naruto \n",
            "goku ichigo goku goku \n",
            "goku luffy ichigo ichigo \n",
            "goku luffy ichigo luffy \n",
            "goku luffy ichigo naruto \n",
            "goku luffy ichigo goku \n",
            "goku luffy luffy ichigo \n",
            "goku luffy luffy luffy \n",
            "goku luffy luffy naruto \n",
            "goku luffy luffy goku \n",
            "goku luffy naruto ichigo \n",
            "goku luffy naruto luffy \n",
            "goku luffy naruto naruto \n",
            "goku luffy naruto goku \n",
            "goku luffy goku ichigo \n",
            "goku luffy goku luffy \n",
            "goku luffy goku naruto \n",
            "goku luffy goku goku \n",
            "goku naruto ichigo ichigo \n",
            "goku naruto ichigo luffy \n",
            "goku naruto ichigo naruto \n",
            "goku naruto ichigo goku \n",
            "goku naruto luffy ichigo \n",
            "goku naruto luffy luffy \n",
            "goku naruto luffy naruto \n",
            "goku naruto luffy goku \n",
            "goku naruto naruto ichigo \n",
            "goku naruto naruto luffy \n",
            "goku naruto naruto naruto \n",
            "goku naruto naruto goku \n",
            "goku naruto goku ichigo \n",
            "goku naruto goku luffy \n",
            "goku naruto goku naruto \n",
            "goku naruto goku goku \n",
            "goku goku ichigo ichigo \n",
            "goku goku ichigo luffy \n",
            "goku goku ichigo naruto \n",
            "goku goku ichigo goku \n",
            "goku goku luffy ichigo \n",
            "goku goku luffy luffy \n",
            "goku goku luffy naruto \n",
            "goku goku luffy goku \n",
            "goku goku naruto ichigo \n",
            "goku goku naruto luffy \n",
            "goku goku naruto naruto \n",
            "goku goku naruto goku \n",
            "goku goku goku ichigo \n",
            "goku goku goku luffy \n",
            "goku goku goku naruto \n",
            "goku goku goku goku \n"
          ]
        }
      ]
    },
    {
      "cell_type": "markdown",
      "source": [
        "## Práctica 1.7\n",
        "Invente un caso de **combinaciones sin repetición**.\n",
        "Se pide contestar a los mismos puntos que el caso anterior."
      ],
      "metadata": {
        "id": "opCrIDtJGg1R"
      }
    },
    {
      "cell_type": "markdown",
      "source": [
        "### Solución 1.7"
      ],
      "metadata": {
        "id": "Zs46BsRnkJcl"
      }
    },
    {
      "cell_type": "code",
      "source": [
        "from itertools import combinations\n",
        "\n",
        "FLAVORS = [\n",
        "\"san marcos\",\n",
        "\"Chocolate\",\n",
        "\"Limón\",\n",
        "\"queso\",\n",
        "\"Galleta\",\n",
        "\"Fresa\",\n",
        "\"Vainilla\",]\n",
        "\n",
        "\n",
        "print(list(combinations(FLAVORS, 2)))"
      ],
      "metadata": {
        "colab": {
          "base_uri": "https://localhost:8080/"
        },
        "id": "Qdxq8HHjPMrA",
        "outputId": "74e0d944-096e-40d3-a984-61869214d6b5"
      },
      "execution_count": 44,
      "outputs": [
        {
          "output_type": "stream",
          "name": "stdout",
          "text": [
            "[('san marcos', 'Chocolate'), ('san marcos', 'Limón'), ('san marcos', 'queso'), ('san marcos', 'Galleta'), ('san marcos', 'Fresa'), ('san marcos', 'Vainilla'), ('Chocolate', 'Limón'), ('Chocolate', 'queso'), ('Chocolate', 'Galleta'), ('Chocolate', 'Fresa'), ('Chocolate', 'Vainilla'), ('Limón', 'queso'), ('Limón', 'Galleta'), ('Limón', 'Fresa'), ('Limón', 'Vainilla'), ('queso', 'Galleta'), ('queso', 'Fresa'), ('queso', 'Vainilla'), ('Galleta', 'Fresa'), ('Galleta', 'Vainilla'), ('Fresa', 'Vainilla')]\n"
          ]
        }
      ]
    },
    {
      "cell_type": "markdown",
      "source": [
        "En una tienda de tartas puedes escoger las tartas de dos sabores diferentes, ¿cuantas combinaiones hay?"
      ],
      "metadata": {
        "id": "_Cf0205zRUyh"
      }
    },
    {
      "cell_type": "markdown",
      "source": [
        "## Práctica 1.8\n",
        "Invente un caso de **combinaciones con repetición**.\n",
        "Se pide contestar a los mismos puntos que el caso anterior."
      ],
      "metadata": {
        "id": "-7Y5WWlDGzAR"
      }
    },
    {
      "cell_type": "markdown",
      "source": [
        "### Solución 1.8"
      ],
      "metadata": {
        "id": "ReRULqd8kL1F"
      }
    },
    {
      "cell_type": "code",
      "source": [
        "from itertools import combinations\n",
        "\n",
        "deportes = [\"Baloncesto \",\"Tenis \",\"Fútbol \",\"Natación \",\"Esgrima \",\"Equitación \"]\n",
        "\n",
        "n = 0\n",
        "combi = []\n",
        "\n",
        "while n < len(deportes):\n",
        "    for i in deportes:\n",
        "        for g in deportes:\n",
        "            if  g + i not in combi:\n",
        "                c = i + g\n",
        "                combi.append(c)\n",
        "                n += 1\n",
        "                print (n,c)"
      ],
      "metadata": {
        "colab": {
          "base_uri": "https://localhost:8080/"
        },
        "id": "Qrk-IvquSqk_",
        "outputId": "4f8ddfe3-0dd5-44cf-ac72-80e47a93cac7"
      },
      "execution_count": 46,
      "outputs": [
        {
          "output_type": "stream",
          "name": "stdout",
          "text": [
            "1 Baloncesto Baloncesto \n",
            "2 Baloncesto Tenis \n",
            "3 Baloncesto Fútbol \n",
            "4 Baloncesto Natación \n",
            "5 Baloncesto Esgrima \n",
            "6 Baloncesto Equitación \n",
            "7 Tenis Tenis \n",
            "8 Tenis Fútbol \n",
            "9 Tenis Natación \n",
            "10 Tenis Esgrima \n",
            "11 Tenis Equitación \n",
            "12 Fútbol Fútbol \n",
            "13 Fútbol Natación \n",
            "14 Fútbol Esgrima \n",
            "15 Fútbol Equitación \n",
            "16 Natación Natación \n",
            "17 Natación Esgrima \n",
            "18 Natación Equitación \n",
            "19 Esgrima Esgrima \n",
            "20 Esgrima Equitación \n",
            "21 Equitación Equitación \n"
          ]
        }
      ]
    },
    {
      "cell_type": "markdown",
      "source": [
        "#Solución 1.8\n",
        "Un torneo de dos días te ofrece jugar en seis deportes diferentes de los cuales solo puedes escoger dos, (puedes escoger el mismo deporte dos veces y jugar en los dos días de torneo): \n",
        "Baloncesto, tenis, fútbol, natación, esgrima y equitación.\n",
        "¿Cuantas combinaciones diferentes de dos deportes podrías elegir?\n",
        "\n",
        "Estamos ante un caso de combinaciones con repetición ya que:\n",
        "\n",
        "El orden no importa, no es relevante el orden en el que se escogen los deprtes, es lo mismo si escogemos tenis y natación que natación y tenis\n",
        "No intervienen todos. Son 6 deportes y solo 2 pueden ser elegidos.\n",
        "Si se repiten elementos. La persona puede escoger dos veces el mismo deporte para participar dos veces."
      ],
      "metadata": {
        "id": "qtJwC6KtS40b"
      }
    },
    {
      "cell_type": "markdown",
      "source": [
        "## Práctica 1.9\n",
        "En el gobierno se crea una unidad de crisis formada por el presidente (P) y 4 ministros (A,B,C,D) que se reúnen sentados alrededor de una **mesa redonda**.\n",
        "\n",
        "Se pide:  \n",
        "1. Calcule de cuantas formas pueden llegar a sentarse si el ministro de defensa (D) siempre ha de estar al lado del presidente (P). Escriba la solución en una celda de Markdown utilizando fórmulas en $\\LaTeX$  explicando el caso.\n",
        "2. Cree un programa en Python para calcular el número de casos que se pueden dar al sentarse en la mesa.\n",
        "3. Cree un programa en Python para imprimir todas las posibilidades y numérelas. Por ejemplo:\n",
        "    - 1 PDABC\n",
        "    - 2 PDACB\n",
        "    - 3 PDBCD\n",
        "    - 4 PDBDC\n",
        "    - 5 PDCAB\n",
        "    - 6 PDCBA\n",
        "    - 7 DPABC\n",
        "    - 8 DPACB\n",
        "    - &#20; &#20; &#20; ... ... ...\n"
      ],
      "metadata": {
        "id": "SOzxh_YgHnDG"
      }
    },
    {
      "cell_type": "markdown",
      "source": [
        "### Solución 1.9"
      ],
      "metadata": {
        "id": "F8kV034OkQZX"
      }
    },
    {
      "cell_type": "markdown",
      "source": [
        "## Práctica 1.10\n",
        "* Realice una breve explicación teórica del **triángulo de Pascal**, o también llamado triángulo de Tartaglia, y de las fórmulas de los números combinatorios.\n",
        "* Cree un programa en Python para hacer el triángulo de Pascal."
      ],
      "metadata": {
        "id": "eiHdMOP-MkrZ"
      }
    },
    {
      "cell_type": "markdown",
      "source": [
        "### Solución 1.10"
      ],
      "metadata": {
        "id": "j0UT2579kTSM"
      }
    },
    {
      "cell_type": "markdown",
      "source": [
        "El triángulo de Pascal es una representación de los coeficientes binomiales ordenados en forma de triángulo.\n",
        "Existe una propiedad sobre el triángulo de Pascal que indica que si el primer elemento de una fila (sin contar los «1») es un número primo, entonces todos los demás elementos de la fila serán divisibles por él."
      ],
      "metadata": {
        "id": "MqnaB4YvVylA"
      }
    },
    {
      "cell_type": "code",
      "source": [
        "num = int(input(\"Enter the number of rows:\"))\n",
        "\n",
        "for n in range(num):\n",
        "    print(' '*(num-n), end='')\n",
        "\n",
        "    print(' '.join(map(str, str(11**n))))"
      ],
      "metadata": {
        "colab": {
          "base_uri": "https://localhost:8080/",
          "height": 380
        },
        "id": "awqHLmwLVcW7",
        "outputId": "dfb1a47b-42e4-44f3-9daa-527dc0bcaa02"
      },
      "execution_count": 47,
      "outputs": [
        {
          "output_type": "error",
          "ename": "KeyboardInterrupt",
          "evalue": "ignored",
          "traceback": [
            "\u001b[0;31m---------------------------------------------------------------------------\u001b[0m",
            "\u001b[0;31mKeyboardInterrupt\u001b[0m                         Traceback (most recent call last)",
            "\u001b[0;32m<ipython-input-47-686f4fd32726>\u001b[0m in \u001b[0;36m<module>\u001b[0;34m\u001b[0m\n\u001b[0;32m----> 1\u001b[0;31m \u001b[0mnum\u001b[0m \u001b[0;34m=\u001b[0m \u001b[0mint\u001b[0m\u001b[0;34m(\u001b[0m\u001b[0minput\u001b[0m\u001b[0;34m(\u001b[0m\u001b[0;34m\"Enter the number of rows:\"\u001b[0m\u001b[0;34m)\u001b[0m\u001b[0;34m)\u001b[0m\u001b[0;34m\u001b[0m\u001b[0;34m\u001b[0m\u001b[0m\n\u001b[0m\u001b[1;32m      2\u001b[0m \u001b[0;34m\u001b[0m\u001b[0m\n\u001b[1;32m      3\u001b[0m \u001b[0;32mfor\u001b[0m \u001b[0mn\u001b[0m \u001b[0;32min\u001b[0m \u001b[0mrange\u001b[0m\u001b[0;34m(\u001b[0m\u001b[0mnum\u001b[0m\u001b[0;34m)\u001b[0m\u001b[0;34m:\u001b[0m\u001b[0;34m\u001b[0m\u001b[0;34m\u001b[0m\u001b[0m\n\u001b[1;32m      4\u001b[0m     \u001b[0mprint\u001b[0m\u001b[0;34m(\u001b[0m\u001b[0;34m' '\u001b[0m\u001b[0;34m*\u001b[0m\u001b[0;34m(\u001b[0m\u001b[0mnum\u001b[0m\u001b[0;34m-\u001b[0m\u001b[0mn\u001b[0m\u001b[0;34m)\u001b[0m\u001b[0;34m,\u001b[0m \u001b[0mend\u001b[0m\u001b[0;34m=\u001b[0m\u001b[0;34m''\u001b[0m\u001b[0;34m)\u001b[0m\u001b[0;34m\u001b[0m\u001b[0;34m\u001b[0m\u001b[0m\n\u001b[1;32m      5\u001b[0m \u001b[0;34m\u001b[0m\u001b[0m\n",
            "\u001b[0;32m/usr/local/lib/python3.7/dist-packages/ipykernel/kernelbase.py\u001b[0m in \u001b[0;36mraw_input\u001b[0;34m(self, prompt)\u001b[0m\n\u001b[1;32m    861\u001b[0m             \u001b[0mself\u001b[0m\u001b[0;34m.\u001b[0m\u001b[0m_parent_ident\u001b[0m\u001b[0;34m,\u001b[0m\u001b[0;34m\u001b[0m\u001b[0;34m\u001b[0m\u001b[0m\n\u001b[1;32m    862\u001b[0m             \u001b[0mself\u001b[0m\u001b[0;34m.\u001b[0m\u001b[0m_parent_header\u001b[0m\u001b[0;34m,\u001b[0m\u001b[0;34m\u001b[0m\u001b[0;34m\u001b[0m\u001b[0m\n\u001b[0;32m--> 863\u001b[0;31m             \u001b[0mpassword\u001b[0m\u001b[0;34m=\u001b[0m\u001b[0;32mFalse\u001b[0m\u001b[0;34m,\u001b[0m\u001b[0;34m\u001b[0m\u001b[0;34m\u001b[0m\u001b[0m\n\u001b[0m\u001b[1;32m    864\u001b[0m         )\n\u001b[1;32m    865\u001b[0m \u001b[0;34m\u001b[0m\u001b[0m\n",
            "\u001b[0;32m/usr/local/lib/python3.7/dist-packages/ipykernel/kernelbase.py\u001b[0m in \u001b[0;36m_input_request\u001b[0;34m(self, prompt, ident, parent, password)\u001b[0m\n\u001b[1;32m    902\u001b[0m             \u001b[0;32mexcept\u001b[0m \u001b[0mKeyboardInterrupt\u001b[0m\u001b[0;34m:\u001b[0m\u001b[0;34m\u001b[0m\u001b[0;34m\u001b[0m\u001b[0m\n\u001b[1;32m    903\u001b[0m                 \u001b[0;31m# re-raise KeyboardInterrupt, to truncate traceback\u001b[0m\u001b[0;34m\u001b[0m\u001b[0;34m\u001b[0m\u001b[0;34m\u001b[0m\u001b[0m\n\u001b[0;32m--> 904\u001b[0;31m                 \u001b[0;32mraise\u001b[0m \u001b[0mKeyboardInterrupt\u001b[0m\u001b[0;34m(\u001b[0m\u001b[0;34m\"Interrupted by user\"\u001b[0m\u001b[0;34m)\u001b[0m \u001b[0;32mfrom\u001b[0m \u001b[0;32mNone\u001b[0m\u001b[0;34m\u001b[0m\u001b[0;34m\u001b[0m\u001b[0m\n\u001b[0m\u001b[1;32m    905\u001b[0m             \u001b[0;32mexcept\u001b[0m \u001b[0mException\u001b[0m \u001b[0;32mas\u001b[0m \u001b[0me\u001b[0m\u001b[0;34m:\u001b[0m\u001b[0;34m\u001b[0m\u001b[0;34m\u001b[0m\u001b[0m\n\u001b[1;32m    906\u001b[0m                 \u001b[0mself\u001b[0m\u001b[0;34m.\u001b[0m\u001b[0mlog\u001b[0m\u001b[0;34m.\u001b[0m\u001b[0mwarning\u001b[0m\u001b[0;34m(\u001b[0m\u001b[0;34m\"Invalid Message:\"\u001b[0m\u001b[0;34m,\u001b[0m \u001b[0mexc_info\u001b[0m\u001b[0;34m=\u001b[0m\u001b[0;32mTrue\u001b[0m\u001b[0;34m)\u001b[0m\u001b[0;34m\u001b[0m\u001b[0;34m\u001b[0m\u001b[0m\n",
            "\u001b[0;31mKeyboardInterrupt\u001b[0m: Interrupted by user"
          ]
        }
      ]
    }
  ]
}